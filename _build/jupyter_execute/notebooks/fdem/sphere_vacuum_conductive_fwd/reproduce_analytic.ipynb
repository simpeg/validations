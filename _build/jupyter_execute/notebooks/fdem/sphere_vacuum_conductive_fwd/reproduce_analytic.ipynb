{
 "cells": [
  {
   "cell_type": "markdown",
   "metadata": {},
   "source": [
    "Reproduce: Analytic\n",
    "=================\n",
    "\n",
    "## Simulating Secondary Magnetic Field Data over a Conductive Sphere\n",
    "\n",
    "Secondary magnetic fields are simulated over conductive sphere in a vacuum. The sphere has a conductivity of $\\sigma$ = 1 S/m. The center of the sphere is located at (0,0,-50) and has a radius of $a$ = 8 m.\n",
    "\n",
    "Secondary magnetic fields are simulated for an x, y and z oriented magnetic dipoles sources at (-5,0,10). The x, y and z components of the response are simulated for each source at (5,0,10). We plot only the horizontal coaxial, horizontal coplanar and vertical coplanar data."
   ]
  },
  {
   "cell_type": "markdown",
   "metadata": {},
   "source": [
    "## Package Details\n",
    "\n",
    "Wait and Spies analytic solution. See https://em.geosci.xyz/content/maxwell3_fdem/inductive_sources/sphere/index.html for a summary of the solution.\n",
    "\n",
    "*Reference:* J. R. Wait. A conductive sphere in a time varying magnetic field. Geophysics, 16:666–672, 1951."
   ]
  },
  {
   "cell_type": "markdown",
   "metadata": {},
   "source": [
    "## Reproducing the Forward Simulation Result\n",
    "\n",
    "We begin by loading all necessary packages and setting any global parameters for the notebook."
   ]
  },
  {
   "cell_type": "code",
   "execution_count": 1,
   "metadata": {
    "scrolled": false,
    "tags": [
     "hide-input"
    ]
   },
   "outputs": [],
   "source": [
    "from SimPEG.utils import mkvc\n",
    "import numpy as np\n",
    "import matplotlib as mpl\n",
    "import matplotlib.pyplot as plt\n",
    "import numpy as np\n",
    "\n",
    "mpl.rcParams.update({\"font.size\": 10})\n",
    "write_output = True"
   ]
  },
  {
   "cell_type": "markdown",
   "metadata": {},
   "source": [
    "Here we define the sphere model."
   ]
  },
  {
   "cell_type": "code",
   "execution_count": 2,
   "metadata": {
    "tags": [
     "hide-input"
    ]
   },
   "outputs": [],
   "source": [
    "rootdir = './../../../assets/fdem/sphere_vacuum_conductive_fwd_simpeg/'\n",
    "\n",
    "a = 8                                # radius of sphere\n",
    "sig0 = 1e-8                          # background conductivity\n",
    "sig = 1e0                            # electrical conductivity of sphere\n",
    "chi = 0.                             # relative permeability of sphere\n",
    "xyzs = [0., 0., -50.]                # xyz location of the sphere\n",
    "\n",
    "mur = 1 + chi"
   ]
  },
  {
   "cell_type": "markdown",
   "metadata": {},
   "source": [
    "Here, we define the survey geometry for the forward simulation."
   ]
  },
  {
   "cell_type": "code",
   "execution_count": 3,
   "metadata": {
    "tags": [
     "hide-input"
    ]
   },
   "outputs": [],
   "source": [
    "xyz_tx = np.c_[-5., 0., 10.]         # Transmitter location\n",
    "xyz_rx = np.c_[5., 0., 10.]          # Receiver location\n",
    "frequencies = np.logspace(2,5,10)    # Frequencies\n",
    "tx_moment = 1.                       # Dipole moment of the transmitter"
   ]
  },
  {
   "cell_type": "markdown",
   "metadata": {},
   "source": [
    "Here we define some functions that are used to compute the analytic forward solution."
   ]
  },
  {
   "cell_type": "code",
   "execution_count": 4,
   "metadata": {
    "tags": [
     "hide-input"
    ]
   },
   "outputs": [],
   "source": [
    "def compute_primary_field_dipole(orientation, pxyz, qxyz):\n",
    "    \"\"\"\n",
    "    For an X, Y or Z orientationed magnetic dipole, compute the free-space primary field for a dipole moment of 1.\n",
    "    \n",
    "    orientation: 'x', 'y' or 'z'\n",
    "    pxyz : [x,y,z] locations of the dipole transmitters\n",
    "    qxyz : [x,y,z] location at the centre location of the sphere\n",
    "    \n",
    "    \"\"\"\n",
    "\n",
    "    R = np.sqrt((qxyz[0] - pxyz[:,0]) ** 2 + (qxyz[1] - pxyz[:,1]) ** 2 + (qxyz[2] - pxyz[:,2]) ** 2)\n",
    "\n",
    "    if orientation == \"x\":\n",
    "        Hpx = (1 / (4 * np.pi)) * (3 * (qxyz[0] - pxyz[:,0]) * (qxyz[0] - pxyz[:,0]) / R ** 5 - 1 / R ** 3)\n",
    "        Hpy = (1 / (4 * np.pi)) * (3 * (qxyz[1] - pxyz[:,1]) * (qxyz[0] - pxyz[:,0]) / R ** 5)\n",
    "        Hpz = (1 / (4 * np.pi)) * (3 * (qxyz[2] - pxyz[:,2]) * (qxyz[0] - pxyz[:,0]) / R ** 5)\n",
    "    elif orientation == \"y\":\n",
    "        Hpx = (1 / (4 * np.pi)) * (3 * (qxyz[0] - pxyz[:,0]) * (qxyz[1] - pxyz[:,1]) / R ** 5)\n",
    "        Hpy = (1 / (4 * np.pi)) * (3 * (qxyz[1] - pxyz[:,1]) * (qxyz[1] - pxyz[:,1]) / R ** 5 - 1 / R ** 3)\n",
    "        Hpz = (1 / (4 * np.pi)) * (3 * (qxyz[2] - pxyz[:,2]) * (qxyz[1] - pxyz[:,1]) / R ** 5)\n",
    "    elif orientation == \"z\":\n",
    "        Hpx = (1 / (4 * np.pi)) * (3 * (qxyz[0] - pxyz[:,0]) * (qxyz[2] - pxyz[:,2]) / R ** 5)\n",
    "        Hpy = (1 / (4 * np.pi)) * (3 * (qxyz[1] - pxyz[:,1]) * (qxyz[2] - pxyz[:,2]) / R ** 5)\n",
    "        Hpz = (1 / (4 * np.pi)) * (3 * (qxyz[2] - pxyz[:,2]) * (qxyz[2] - pxyz[:,2]) / R ** 5 - 1 / R ** 3)\n",
    "\n",
    "    return np.c_[Hpx, Hpy, Hpz]\n",
    "\n",
    "\n",
    "def compute_excitation_factor(f, sig, mur, a):\n",
    "    \"\"\"\n",
    "    Compute Excitation Factor (FEM)\n",
    "    \n",
    "    f : frequencies\n",
    "    sig : conductivity\n",
    "    mur : relative permeability\n",
    "    a : radius\n",
    "    \"\"\"\n",
    "\n",
    "    w = 2 * np.pi * f\n",
    "    mu = 4 * np.pi * 1e-7 * mur\n",
    "    alpha = a * np.sqrt(1j * w * mu * sig)\n",
    "\n",
    "    chi = (\n",
    "        1.5\n",
    "        * (\n",
    "            2 * mur * (np.tanh(alpha) - alpha)\n",
    "            + (alpha ** 2 * np.tanh(alpha) - alpha + np.tanh(alpha))\n",
    "        )\n",
    "        / (\n",
    "            mur * (np.tanh(alpha) - alpha)\n",
    "            - (alpha ** 2 * np.tanh(alpha) - alpha + np.tanh(alpha))\n",
    "        )\n",
    "    )\n",
    "\n",
    "    return chi\n",
    "\n",
    "\n",
    "def compute_dipolar_response(m, pxyz, qxyz):\n",
    "    \"\"\"\n",
    "    For a sphere with dipole moment [mx, my, mz], compute the dipolar response\n",
    "    \n",
    "    m : dipole moments [mx, my, mz]\n",
    "    orientation of the receiver: 'x', 'y' or 'z'\n",
    "    pxyz : [x,y,z] locations of the receivers\n",
    "    qxyz : [x,y,z] location at the centre location of the sphere\n",
    "    \n",
    "    \"\"\"\n",
    "\n",
    "    R = np.sqrt((qxyz[0] - pxyz[:,0]) ** 2 + (qxyz[1] - pxyz[:,1]) ** 2 + (qxyz[2] - pxyz[:,2]) ** 2)\n",
    "\n",
    "    Hx = (1 / (4 * np.pi)) * ( 3 * (pxyz[:,0] - qxyz[0]) * (\n",
    "                m[:,0]*(pxyz[:,0] - qxyz[0]) +\n",
    "                m[:,1]*(pxyz[:,1] - qxyz[1]) +\n",
    "                m[:,2]*(pxyz[:,2] - qxyz[2])\n",
    "            ) / R ** 5 - m[:,0] / R ** 3)\n",
    "\n",
    "    Hy = (1 / (4 * np.pi)) * ( 3 * (pxyz[:,1] - qxyz[1]) * (\n",
    "                m[:,0]*(pxyz[:,0] - qxyz[0]) +\n",
    "                m[:,1]*(pxyz[:,1] - qxyz[1]) +\n",
    "                m[:,2]*(pxyz[:,2] - qxyz[2])\n",
    "            ) / R ** 5 - m[:,1] / R ** 3)\n",
    "\n",
    "    Hz = (1 / (4 * np.pi)) * ( 3 * (pxyz[:,2] - qxyz[2]) * (\n",
    "                m[:,0]*(pxyz[:,0] - qxyz[0]) +\n",
    "                m[:,1]*(pxyz[:,1] - qxyz[1]) +\n",
    "                m[:,2]*(pxyz[:,2] - qxyz[2])\n",
    "            ) / R ** 5 - m[:,2] / R ** 3)\n",
    "\n",
    "    return np.c_[Hx, Hy, Hz]"
   ]
  },
  {
   "cell_type": "markdown",
   "metadata": {},
   "source": [
    "Finally, we predict the secondary magnetic field data for the model provided."
   ]
  },
  {
   "cell_type": "code",
   "execution_count": 5,
   "metadata": {
    "tags": [
     "hide-input"
    ]
   },
   "outputs": [],
   "source": [
    "Hs_analytic = []\n",
    "\n",
    "for ii, comp in enumerate(['x','y','z']):\n",
    "    \n",
    "    # Compute the free space primary field at the location of the sphere\n",
    "    Hp = tx_moment*compute_primary_field_dipole(comp, xyz_tx, xyzs)\n",
    "    \n",
    "    temp = []\n",
    "    for jj in range(0, len(frequencies)):\n",
    "\n",
    "        # Multiply by the excitation factor to get the dipole moment of the sphere\n",
    "        m = (4*np.pi*a**3/3)*compute_excitation_factor(frequencies[jj], sig, mur, a) * Hp\n",
    "\n",
    "        # Compute dipolar response\n",
    "        temp.append(compute_dipolar_response(m, xyz_rx, xyzs))\n",
    "\n",
    "    Hs_analytic.append(np.vstack(temp))"
   ]
  },
  {
   "cell_type": "markdown",
   "metadata": {},
   "source": [
    "We can export the data to a simple text file."
   ]
  },
  {
   "cell_type": "code",
   "execution_count": 6,
   "metadata": {
    "tags": [
     "hide-input"
    ]
   },
   "outputs": [],
   "source": [
    "if write_output:\n",
    "    \n",
    "    fname_analytic = rootdir + 'analytic.txt'\n",
    "    \n",
    "    header = 'FREQUENCY HX_REAL HX_IMAG HY_REAL HY_IMAG HZ_REAL HZ_IMAG'\n",
    "    f_column = np.kron(np.ones(3), frequencies)\n",
    "    \n",
    "    out_array = np.vstack(Hs_analytic)\n",
    "    out_array = np.c_[\n",
    "        f_column,\n",
    "        np.real(out_array[:, 0]),\n",
    "        np.imag(out_array[:, 0]),\n",
    "        np.real(out_array[:, 1]),\n",
    "        np.imag(out_array[:, 1]),\n",
    "        np.real(out_array[:, 2]),\n",
    "        np.imag(out_array[:, 2])\n",
    "    ]\n",
    "\n",
    "    fid = open(fname_analytic, 'w')\n",
    "    np.savetxt(fid, out_array, fmt='%.6e', delimiter=' ', header=header)\n",
    "    fid.close()"
   ]
  },
  {
   "cell_type": "markdown",
   "metadata": {},
   "source": [
    "## Simulated Data Plot"
   ]
  },
  {
   "cell_type": "code",
   "execution_count": 7,
   "metadata": {
    "tags": [
     "hide-input"
    ]
   },
   "outputs": [
    {
     "data": {
      "image/png": "[encoded data removed]",
      "text/plain": [
       "<Figure size 1152x504 with 3 Axes>"
      ]
     },
     "metadata": {
      "needs_background": "light"
     },
     "output_type": "display_data"
    }
   ],
   "source": [
    "fig = plt.figure(figsize=(16, 7))\n",
    "lw = 2\n",
    "ms = 6\n",
    "\n",
    "ax = 3*[None]\n",
    "\n",
    "legend_str = ['Real', 'Imag']\n",
    "\n",
    "for ii, src in enumerate(['X','Y','Z']):\n",
    "    \n",
    "        ax[ii] = fig.add_axes([0.05 + 0.3*ii, 0.1, 0.25, 0.8])\n",
    "        ax[ii].semilogx(frequencies, np.real(Hs_analytic[ii][:, ii]), 'r-o', lw=lw, markersize=ms)\n",
    "        ax[ii].semilogx(frequencies, np.imag(Hs_analytic[ii][:, ii]), 'r--s', lw=lw, markersize=ms)\n",
    "        ax[ii].grid()\n",
    "        ax[ii].set_xlabel('Frequency (Hz)')\n",
    "        ax[ii].set_ylabel('Secondary field (A/m)')\n",
    "        ax[ii].set_title(src + ' dipole source, ' + src + ' component')\n",
    "        ax[ii].legend(legend_str)"
   ]
  },
  {
   "cell_type": "code",
   "execution_count": null,
   "metadata": {},
   "outputs": [],
   "source": []
  }
 ],
 "metadata": {
  "celltoolbar": "Tags",
  "kernelspec": {
   "display_name": "Python 3",
   "language": "python",
   "name": "python3"
  },
  "language_info": {
   "codemirror_mode": {
    "name": "ipython",
    "version": 3
   },
   "file_extension": ".py",
   "mimetype": "text/x-python",
   "name": "python",
   "nbconvert_exporter": "python",
   "pygments_lexer": "ipython3",
   "version": "3.8.8"
  }
 },
 "nbformat": 4,
 "nbformat_minor": 4
}