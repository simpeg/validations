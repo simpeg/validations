{
 "cells": [
  {
   "cell_type": "markdown",
   "metadata": {},
   "source": [
    "Inductive Source Simulation: Layered Earth (Conductive)\n",
    "===============================================\n",
    "\n",
    "## Geoscientific Problem\n",
    "\n",
    "For this code comparison, transient TEM data were simulated over a conductive 1D layered Earth. From the top layer down we defined 3 layers with electrical conductivities $\\sigma_1$ = 0.01 S/m, $\\sigma_2$ = 0.1 S/m and $\\sigma_3$ = 0.01 S/m. The thicknesses of the top two layers were both 64 m.\n",
    "\n",
    "The transient response was simulated for x, y and z oriented magnetic dipoles at (0, 0, 5). The x, y and z components of H and dB/dt were simulated at (10, 0, 5). However, we only plot the data for horizontal coaxial, horizontal coplanar and vertical coplanar geometries.\n",
    "\n",
    "*A figure illustrating the conductivity model and survey geometry is shown further down*"
   ]
  },
  {
   "cell_type": "markdown",
   "metadata": {},
   "source": [
    "## Codes/Formulations Being Compared\n",
    "\n",
    "**SimPEG 1D Formulation:**\n",
    "\n",
    "**SimPEG 2D Cylindrical Mesh Formulation:**\n",
    "\n",
    "**SimPEG 3D OcTree Formulation:**\n",
    "\n",
    "**UBC TD Octree v1:** [TD OcTree v1](https://tdoctree.readthedocs.io/en/tdoctree_v1/) is a voxel cell TDEM forward modeling and inversion package developed by the UBC Geophysical Inversion Facility. This software is proprietary and can ONLY be acquired through appropriate [academic](https://gif.eos.ubc.ca/software/licenses_academic) or [commerical](https://gif.eos.ubc.ca/software/licenses_commercial) licenses. The numerical approach of the forward simulation is described in the [online manual's theory section](https://tdoctree.readthedocs.io/en/tdoctree_v1/content/theory.html). If you have a valid license, there are instructions for reproducing the results (add link).\n",
    "\n",
    "**UBC TD Octree v2:** [tdrh v2](https://tdrh.readthedocs.io/en/tdrh_v2/) is a voxel cell TDEM forward modeling and inversion package developed by the UBC Geophysical Inversion Facility. This software is proprietary and can ONLY be acquired through appropriate [academic](https://gif.eos.ubc.ca/software/licenses_academic) or [commerical](https://gif.eos.ubc.ca/software/licenses_commercial) licenses. The numerical approach of the forward simulation is described in the [online manual's theory section](https://tdrh.readthedocs.io/en/tdrh_v2/content/theory.html). If you have a valid license, there are instructions for reproducing the results (add link)."
   ]
  },
  {
   "cell_type": "markdown",
   "metadata": {},
   "source": [
    "## Loading Assets Into the SimPEG Framework\n",
    "\n",
    "We start by importing any necessary packages for running the notebook."
   ]
  },
  {
   "cell_type": "code",
   "execution_count": 1,
   "metadata": {
    "scrolled": false,
    "tags": [
     "hide-input"
    ]
   },
   "outputs": [],
   "source": [
    "import numpy as np\n",
    "import matplotlib as mpl\n",
    "import matplotlib.pyplot as plt\n",
    "from discretize import TreeMesh\n",
    "from SimPEG import maps\n",
    "mpl.rcParams.update({'font.size':14})\n",
    "\n",
    "mu0 = 4*np.pi*1e-7\n",
    "times = np.logspace(-5, -2, 10)\n",
    "\n",
    "plot_simpeg_1d = True\n",
    "plot_simpeg_cylmesh = False\n",
    "plot_simpeg_octree = True\n",
    "plot_ubc_tdoctree_v1 = True\n",
    "plot_ubc_tdrh_v2 = True"
   ]
  },
  {
   "cell_type": "markdown",
   "metadata": {},
   "source": [
    "Next we download the mesh, model and simulated data for each code."
   ]
  },
  {
   "cell_type": "code",
   "execution_count": 2,
   "metadata": {
    "tags": [
     "hide-input"
    ]
   },
   "outputs": [],
   "source": [
    "# For each package, download .tar files"
   ]
  },
  {
   "cell_type": "markdown",
   "metadata": {},
   "source": [
    "The mesh, model and predicted data for each code are then loaded into the SimPEG framework for plotting."
   ]
  },
  {
   "cell_type": "code",
   "execution_count": 3,
   "metadata": {
    "tags": [
     "hide-input"
    ]
   },
   "outputs": [
    {
     "ename": "OSError",
     "evalue": "./../../../assets/tdem/layered_earth_conductive_fwd_ubc_octree/fwd_v1/dpred0.txt not found.",
     "output_type": "error",
     "traceback": [
      "\u001b[1;31m---------------------------------------------------------------------------\u001b[0m",
      "\u001b[1;31mOSError\u001b[0m                                   Traceback (most recent call last)",
      "\u001b[1;32m<ipython-input-3-f44195126611>\u001b[0m in \u001b[0;36m<module>\u001b[1;34m\u001b[0m\n\u001b[0;32m     28\u001b[0m \u001b[1;32mif\u001b[0m \u001b[0mplot_ubc_tdoctree_v1\u001b[0m\u001b[1;33m:\u001b[0m\u001b[1;33m\u001b[0m\u001b[1;33m\u001b[0m\u001b[0m\n\u001b[0;32m     29\u001b[0m     \u001b[0mfname\u001b[0m \u001b[1;33m=\u001b[0m \u001b[1;34m'_ubc_octree/fwd_v1/dpred0.txt'\u001b[0m\u001b[1;33m\u001b[0m\u001b[1;33m\u001b[0m\u001b[0m\n\u001b[1;32m---> 30\u001b[1;33m     \u001b[0mtemp\u001b[0m \u001b[1;33m=\u001b[0m \u001b[0mnp\u001b[0m\u001b[1;33m.\u001b[0m\u001b[0mloadtxt\u001b[0m\u001b[1;33m(\u001b[0m\u001b[0mrootdir\u001b[0m\u001b[1;33m+\u001b[0m\u001b[0mfname\u001b[0m\u001b[1;33m)\u001b[0m\u001b[1;33m[\u001b[0m\u001b[1;33m:\u001b[0m\u001b[1;33m,\u001b[0m \u001b[1;36m7\u001b[0m\u001b[1;33m:\u001b[0m\u001b[1;33m]\u001b[0m\u001b[1;33m\u001b[0m\u001b[1;33m\u001b[0m\u001b[0m\n\u001b[0m\u001b[0;32m     31\u001b[0m     \u001b[0mtemp\u001b[0m \u001b[1;33m=\u001b[0m \u001b[0mnp\u001b[0m\u001b[1;33m.\u001b[0m\u001b[0mc_\u001b[0m\u001b[1;33m[\u001b[0m\u001b[0mtimes\u001b[0m\u001b[1;33m,\u001b[0m \u001b[0mtemp\u001b[0m\u001b[1;33m]\u001b[0m\u001b[1;33m\u001b[0m\u001b[1;33m\u001b[0m\u001b[0m\n\u001b[0;32m     32\u001b[0m     \u001b[0mdata_list\u001b[0m\u001b[1;33m.\u001b[0m\u001b[0mappend\u001b[0m\u001b[1;33m(\u001b[0m\u001b[0mtemp\u001b[0m\u001b[1;33m)\u001b[0m\u001b[1;33m\u001b[0m\u001b[1;33m\u001b[0m\u001b[0m\n",
      "\u001b[1;32m~\\anaconda3\\lib\\site-packages\\numpy\\lib\\npyio.py\u001b[0m in \u001b[0;36mloadtxt\u001b[1;34m(fname, dtype, comments, delimiter, converters, skiprows, usecols, unpack, ndmin, encoding, max_rows, like)\u001b[0m\n\u001b[0;32m   1063\u001b[0m             \u001b[0mfname\u001b[0m \u001b[1;33m=\u001b[0m \u001b[0mos_fspath\u001b[0m\u001b[1;33m(\u001b[0m\u001b[0mfname\u001b[0m\u001b[1;33m)\u001b[0m\u001b[1;33m\u001b[0m\u001b[1;33m\u001b[0m\u001b[0m\n\u001b[0;32m   1064\u001b[0m         \u001b[1;32mif\u001b[0m \u001b[0m_is_string_like\u001b[0m\u001b[1;33m(\u001b[0m\u001b[0mfname\u001b[0m\u001b[1;33m)\u001b[0m\u001b[1;33m:\u001b[0m\u001b[1;33m\u001b[0m\u001b[1;33m\u001b[0m\u001b[0m\n\u001b[1;32m-> 1065\u001b[1;33m             \u001b[0mfh\u001b[0m \u001b[1;33m=\u001b[0m \u001b[0mnp\u001b[0m\u001b[1;33m.\u001b[0m\u001b[0mlib\u001b[0m\u001b[1;33m.\u001b[0m\u001b[0m_datasource\u001b[0m\u001b[1;33m.\u001b[0m\u001b[0mopen\u001b[0m\u001b[1;33m(\u001b[0m\u001b[0mfname\u001b[0m\u001b[1;33m,\u001b[0m \u001b[1;34m'rt'\u001b[0m\u001b[1;33m,\u001b[0m \u001b[0mencoding\u001b[0m\u001b[1;33m=\u001b[0m\u001b[0mencoding\u001b[0m\u001b[1;33m)\u001b[0m\u001b[1;33m\u001b[0m\u001b[1;33m\u001b[0m\u001b[0m\n\u001b[0m\u001b[0;32m   1066\u001b[0m             \u001b[0mfencoding\u001b[0m \u001b[1;33m=\u001b[0m \u001b[0mgetattr\u001b[0m\u001b[1;33m(\u001b[0m\u001b[0mfh\u001b[0m\u001b[1;33m,\u001b[0m \u001b[1;34m'encoding'\u001b[0m\u001b[1;33m,\u001b[0m \u001b[1;34m'latin1'\u001b[0m\u001b[1;33m)\u001b[0m\u001b[1;33m\u001b[0m\u001b[1;33m\u001b[0m\u001b[0m\n\u001b[0;32m   1067\u001b[0m             \u001b[0mfh\u001b[0m \u001b[1;33m=\u001b[0m \u001b[0miter\u001b[0m\u001b[1;33m(\u001b[0m\u001b[0mfh\u001b[0m\u001b[1;33m)\u001b[0m\u001b[1;33m\u001b[0m\u001b[1;33m\u001b[0m\u001b[0m\n",
      "\u001b[1;32m~\\anaconda3\\lib\\site-packages\\numpy\\lib\\_datasource.py\u001b[0m in \u001b[0;36mopen\u001b[1;34m(path, mode, destpath, encoding, newline)\u001b[0m\n\u001b[0;32m    192\u001b[0m \u001b[1;33m\u001b[0m\u001b[0m\n\u001b[0;32m    193\u001b[0m     \u001b[0mds\u001b[0m \u001b[1;33m=\u001b[0m \u001b[0mDataSource\u001b[0m\u001b[1;33m(\u001b[0m\u001b[0mdestpath\u001b[0m\u001b[1;33m)\u001b[0m\u001b[1;33m\u001b[0m\u001b[1;33m\u001b[0m\u001b[0m\n\u001b[1;32m--> 194\u001b[1;33m     \u001b[1;32mreturn\u001b[0m \u001b[0mds\u001b[0m\u001b[1;33m.\u001b[0m\u001b[0mopen\u001b[0m\u001b[1;33m(\u001b[0m\u001b[0mpath\u001b[0m\u001b[1;33m,\u001b[0m \u001b[0mmode\u001b[0m\u001b[1;33m,\u001b[0m \u001b[0mencoding\u001b[0m\u001b[1;33m=\u001b[0m\u001b[0mencoding\u001b[0m\u001b[1;33m,\u001b[0m \u001b[0mnewline\u001b[0m\u001b[1;33m=\u001b[0m\u001b[0mnewline\u001b[0m\u001b[1;33m)\u001b[0m\u001b[1;33m\u001b[0m\u001b[1;33m\u001b[0m\u001b[0m\n\u001b[0m\u001b[0;32m    195\u001b[0m \u001b[1;33m\u001b[0m\u001b[0m\n\u001b[0;32m    196\u001b[0m \u001b[1;33m\u001b[0m\u001b[0m\n",
      "\u001b[1;32m~\\anaconda3\\lib\\site-packages\\numpy\\lib\\_datasource.py\u001b[0m in \u001b[0;36mopen\u001b[1;34m(self, path, mode, encoding, newline)\u001b[0m\n\u001b[0;32m    529\u001b[0m                                       encoding=encoding, newline=newline)\n\u001b[0;32m    530\u001b[0m         \u001b[1;32melse\u001b[0m\u001b[1;33m:\u001b[0m\u001b[1;33m\u001b[0m\u001b[1;33m\u001b[0m\u001b[0m\n\u001b[1;32m--> 531\u001b[1;33m             \u001b[1;32mraise\u001b[0m \u001b[0mIOError\u001b[0m\u001b[1;33m(\u001b[0m\u001b[1;34m\"%s not found.\"\u001b[0m \u001b[1;33m%\u001b[0m \u001b[0mpath\u001b[0m\u001b[1;33m)\u001b[0m\u001b[1;33m\u001b[0m\u001b[1;33m\u001b[0m\u001b[0m\n\u001b[0m\u001b[0;32m    532\u001b[0m \u001b[1;33m\u001b[0m\u001b[0m\n\u001b[0;32m    533\u001b[0m \u001b[1;33m\u001b[0m\u001b[0m\n",
      "\u001b[1;31mOSError\u001b[0m: ./../../../assets/tdem/layered_earth_conductive_fwd_ubc_octree/fwd_v1/dpred0.txt not found."
     ]
    }
   ],
   "source": [
    "rootdir = './../../../assets/tdem/layered_earth_conductive_fwd'\n",
    "mesh_simpeg = TreeMesh.read_UBC(rootdir+'_simpeg/octree_mesh.txt')\n",
    "model_simpeg = TreeMesh.read_model_UBC(mesh_simpeg, rootdir+'_simpeg/model.con')\n",
    "\n",
    "data_list = []\n",
    "legend_str = []\n",
    "style_list = ['k-o', 'b-o', 'r-o', 'g-o', 'c-o']\n",
    "\n",
    "if plot_simpeg_1d:\n",
    "    fname = '_simpeg/dpred_1d.txt'\n",
    "    data_array = np.loadtxt(rootdir+fname, skiprows=1)[:, 1:]\n",
    "    data_array = np.reshape(data_array, (3, len(times), 6))\n",
    "    data_list.append(data_array)\n",
    "    legend_str.append('SimPEG 1D')\n",
    "\n",
    "# if plot_simpeg_cylmesh:\n",
    "#     fname = '_simpeg/dpred_cylmesh.txt'\n",
    "#     data_list.append(np.loadtxt(rootdir+fname, skiprows=1))\n",
    "#     legend_str.append('SimPEG Cyl Mesh')\n",
    "\n",
    "if plot_simpeg_octree:\n",
    "    fname = '_simpeg/dpred_octree.txt'\n",
    "    data_array = np.loadtxt(rootdir+fname, skiprows=1)[:, 1:]\n",
    "    data_array = np.reshape(data_array, (3, len(times), 6))\n",
    "    data_list.append(data_array)\n",
    "    legend_str.append('SimPEG OcTree')\n",
    "\n",
    "if plot_ubc_tdoctree_v1:\n",
    "    fname = '_ubc_octree/fwd_v1/dpred0.txt'\n",
    "    temp = np.loadtxt(rootdir+fname)[:, 7:]\n",
    "    temp = np.c_[times, temp]\n",
    "    data_list.append(temp)\n",
    "    legend_str.append('TD OcTree v1')\n",
    "\n",
    "if plot_ubc_tdrh_v2:\n",
    "    fname1 = '_ubc_octree/fwd_tdrh_v2_h/dpredFwd.txt'\n",
    "    fname2 = '_ubc_octree/fwd_tdrh_v2_dbdt/dpredFwd.txt'\n",
    "    temp = np.r_[\n",
    "        np.loadtxt(rootdir+fname1)[:, -1], np.loadtxt(rootdir+fname2)[:, -1]\n",
    "    ]\n",
    "    temp = np.reshape(temp, (3*len(times), 6), order='F')\n",
    "    temp = np.reshape(temp, (3, len(times), 6))\n",
    "    data_list.append(temp)\n",
    "    legend_str.append('TDRH v2')"
   ]
  },
  {
   "cell_type": "markdown",
   "metadata": {},
   "source": [
    "## Geophysical Scenario\n",
    "\n",
    "Here, we plot the conductivity model used in the forward simulation."
   ]
  },
  {
   "cell_type": "code",
   "execution_count": null,
   "metadata": {
    "tags": [
     "hide-input"
    ]
   },
   "outputs": [],
   "source": [
    "fig = plt.figure(figsize=(12,4))\n",
    "ind_active = mesh_simpeg.cell_centers[:, 2] < 0\n",
    "plotting_map = maps.InjectActiveCells(mesh_simpeg, ind_active, np.nan)\n",
    "log_model = np.log10(model_simpeg[ind_active])\n",
    "\n",
    "ax1 = fig.add_axes([0.14, 0.1, 0.6, 0.85])\n",
    "mesh_simpeg.plot_slice(\n",
    "    plotting_map * log_model,\n",
    "    normal=\"Y\", ax=ax1, ind=int(mesh_simpeg.h[1].size / 2),\n",
    "    clim=(np.min(log_model), np.max(log_model)), grid=True\n",
    ")\n",
    "\n",
    "ax1.set_xlim([-300, 300])\n",
    "ax1.set_ylim([-250, 50])\n",
    "ax1.set_title(\"OcTree Conductivity Model: {} Cells\".format(mesh_simpeg.nC))\n",
    "\n",
    "ax2 = fig.add_axes([0.76, 0.1, 0.05, 0.85])\n",
    "norm = mpl.colors.Normalize(\n",
    "    vmin=np.min(log_model), vmax=np.max(log_model)\n",
    ")\n",
    "cbar = mpl.colorbar.ColorbarBase(\n",
    "    ax2, norm=norm, orientation=\"vertical\", format=\"$10^{%.1f}$\"\n",
    ")\n",
    "cbar.set_label(\"Conductivity [S/m]\", rotation=270, labelpad=15, size=12)"
   ]
  },
  {
   "cell_type": "markdown",
   "metadata": {},
   "source": [
    "## Plotting Simulated Data\n",
    "\n",
    "Here we plot the simulated data for all codes. We plot the only the data for horizontal coaxial, horizontal coplanar and vertical coplanar geometries."
   ]
  },
  {
   "cell_type": "code",
   "execution_count": null,
   "metadata": {
    "tags": [
     "hide-input"
    ]
   },
   "outputs": [],
   "source": [
    "fig = plt.figure(figsize=(14, 6))\n",
    "lw = 2.5\n",
    "ms = 8\n",
    "\n",
    "ax1 = 3*[None]\n",
    "\n",
    "for ii, comp in enumerate(['X','Y','Z']):\n",
    "    \n",
    "    ax1[ii] = fig.add_axes([0.05+0.35*ii, 0.1, 0.25, 0.8])\n",
    "    \n",
    "    for jj in range(0, len(data_list)):\n",
    "        ax1[ii].loglog(times, data_list[jj][ii, :, ii], style_list[jj], lw=lw, markersize=ms)\n",
    "        \n",
    "    ax1[ii].grid()\n",
    "    ax1[ii].set_xlabel('times (s)')\n",
    "    ax1[ii].set_ylabel('H (A/m)')\n",
    "    ax1[ii].set_title(comp + ' dipole, ' + comp + ' component')\n",
    "    ax1[ii].legend(legend_str,loc=\"lower left\")"
   ]
  },
  {
   "cell_type": "code",
   "execution_count": null,
   "metadata": {
    "tags": [
     "hide-input"
    ]
   },
   "outputs": [],
   "source": [
    "fig = plt.figure(figsize=(14, 8))\n",
    "lw = 2.5\n",
    "ms = 8\n",
    "\n",
    "ax1 = 3*[None]\n",
    "\n",
    "for ii, comp in enumerate(['X','Y','Z']):\n",
    "    \n",
    "    ax1[ii] = fig.add_axes([0.05+0.35*ii, 0.1, 0.25, 0.8])\n",
    "    \n",
    "    for jj in range(0, len(data_list)):\n",
    "        ax1[ii].loglog(times, -data_list[jj][ii, :, ii+3], style_list[jj], lw=lw, markersize=ms)\n",
    "        \n",
    "    ax1[ii].grid()\n",
    "    ax1[ii].set_xlabel('times (s)')\n",
    "    ax1[ii].set_ylabel('-dB/dt (T/s)')\n",
    "    ax1[ii].set_title(comp + ' dipole, ' + comp + ' component')\n",
    "    ax1[ii].legend(legend_str,loc=\"lower left\")"
   ]
  },
  {
   "cell_type": "code",
   "execution_count": null,
   "metadata": {},
   "outputs": [],
   "source": []
  }
 ],
 "metadata": {
  "celltoolbar": "Tags",
  "kernelspec": {
   "display_name": "Python 3",
   "language": "python",
   "name": "python3"
  },
  "language_info": {
   "codemirror_mode": {
    "name": "ipython",
    "version": 3
   },
   "file_extension": ".py",
   "mimetype": "text/x-python",
   "name": "python",
   "nbconvert_exporter": "python",
   "pygments_lexer": "ipython3",
   "version": "3.8.8"
  }
 },
 "nbformat": 4,
 "nbformat_minor": 4
}
